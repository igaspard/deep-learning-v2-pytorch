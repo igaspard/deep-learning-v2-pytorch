{
 "cells": [
  {
   "cell_type": "markdown",
   "metadata": {},
   "source": [
    "# Neural networks with PyTorch\n",
    "\n",
    "Deep learning networks tend to be massive with dozens or hundreds of layers, that's where the term \"deep\" comes from. You can build one of these deep networks using only weight matrices as we did in the previous notebook, but in general it's very cumbersome and difficult to implement. PyTorch has a nice module `nn` that provides a nice way to efficiently build large neural networks."
   ]
  },
  {
   "cell_type": "code",
   "execution_count": 1,
   "metadata": {},
   "outputs": [],
   "source": [
    "# Import necessary packages\n",
    "\n",
    "%matplotlib inline\n",
    "%config InlineBackend.figure_format = 'retina'\n",
    "\n",
    "import numpy as np\n",
    "import torch\n",
    "\n",
    "import helper\n",
    "\n",
    "import matplotlib.pyplot as plt"
   ]
  },
  {
   "cell_type": "markdown",
   "metadata": {},
   "source": [
    "\n",
    "Now we're going to build a larger network that can solve a (formerly) difficult problem, identifying text in an image. Here we'll use the MNIST dataset which consists of greyscale handwritten digits. Each image is 28x28 pixels, you can see a sample below\n",
    "\n",
    "<img src='assets/mnist.png'>\n",
    "\n",
    "Our goal is to build a neural network that can take one of these images and predict the digit in the image.\n",
    "\n",
    "First up, we need to get our dataset. This is provided through the `torchvision` package. The code below will download the MNIST dataset, then create training and test datasets for us. Don't worry too much about the details here, you'll learn more about this later."
   ]
  },
  {
   "cell_type": "code",
   "execution_count": 2,
   "metadata": {},
   "outputs": [
    {
     "name": "stdout",
     "output_type": "stream",
     "text": [
      "Downloading http://yann.lecun.com/exdb/mnist/train-images-idx3-ubyte.gz\n",
      "Downloading http://yann.lecun.com/exdb/mnist/train-labels-idx1-ubyte.gz\n",
      "Downloading http://yann.lecun.com/exdb/mnist/t10k-images-idx3-ubyte.gz\n",
      "Downloading http://yann.lecun.com/exdb/mnist/t10k-labels-idx1-ubyte.gz\n",
      "Processing...\n",
      "Done!\n"
     ]
    }
   ],
   "source": [
    "### Run this cell\n",
    "\n",
    "from torchvision import datasets, transforms\n",
    "\n",
    "# Define a transform to normalize the data\n",
    "transform = transforms.Compose([transforms.ToTensor(),\n",
    "                              transforms.Normalize((0.5, 0.5, 0.5), (0.5, 0.5, 0.5)),\n",
    "                              ])\n",
    "\n",
    "# Download and load the training data\n",
    "trainset = datasets.MNIST('MNIST_data/', download=True, train=True, transform=transform)\n",
    "trainloader = torch.utils.data.DataLoader(trainset, batch_size=64, shuffle=True)"
   ]
  },
  {
   "cell_type": "markdown",
   "metadata": {},
   "source": [
    "We have the training data loaded into `trainloader` and we make that an iterator with `iter(trainloader)`. Later, we'll use this to loop through the dataset for training, like\n",
    "\n",
    "```python\n",
    "for image, label in trainloader:\n",
    "    ## do things with images and labels\n",
    "```\n",
    "\n",
    "You'll notice I created the `trainloader` with a batch size of 64, and `shuffle=True`. The batch size is the number of images we get in one iteration from the data loader and pass through our network, often called a *batch*. And `shuffle=True` tells it to shuffle the dataset every time we start going through the data loader again. But here I'm just grabbing the first batch so we can check out the data. We can see below that `images` is just a tensor with size `(64, 1, 28, 28)`. So, 64 images per batch, 1 color channel, and 28x28 images."
   ]
  },
  {
   "cell_type": "code",
   "execution_count": 3,
   "metadata": {},
   "outputs": [
    {
     "name": "stdout",
     "output_type": "stream",
     "text": [
      "<class 'torch.Tensor'>\n",
      "torch.Size([64, 1, 28, 28])\n",
      "torch.Size([64])\n"
     ]
    }
   ],
   "source": [
    "dataiter = iter(trainloader)\n",
    "images, labels = dataiter.next()\n",
    "print(type(images))\n",
    "print(images.shape)\n",
    "print(labels.shape)"
   ]
  },
  {
   "cell_type": "markdown",
   "metadata": {},
   "source": [
    "This is what one of the images looks like. "
   ]
  },
  {
   "cell_type": "code",
   "execution_count": 4,
   "metadata": {},
   "outputs": [
    {
     "data": {
      "image/png": "[encoded data removed]",
      "text/plain": [
       "<Figure size 432x288 with 1 Axes>"
      ]
     },
     "metadata": {
      "image/png": {
       "height": 250,
       "width": 253
      },
      "needs_background": "light"
     },
     "output_type": "display_data"
    }
   ],
   "source": [
    "plt.imshow(images[1].numpy().squeeze(), cmap='Greys_r');"
   ]
  },
  {
   "cell_type": "markdown",
   "metadata": {},
   "source": [
    "First, let's try to build a simple network for this dataset using weight matrices and matrix multiplications. Then, we'll see how to do it using PyTorch's `nn` module which provides a much more convenient and powerful method for defining network architectures.\n",
    "\n",
    "The networks you've seen so far are called *fully-connected* or *dense* networks. Each unit in one layer is connected to each unit in the next layer. In fully-connected networks, the input to each layer must be a one-dimensional vector (which can be stacked into a 2D tensor as a batch of multiple examples). However, our images are 28x28 2D tensors, so we need to convert them into 1D vectors. Thinking about sizes, we need to convert the batch of images with shape `(64, 1, 28, 28)` to a have a shape of `(64, 784)`, 784 is 28 times 28. This is typically called *flattening*, we flattened the 2D images into 1D vectors.\n",
    "\n",
    "Previously you built a network with one output unit. Here we need 10 output units, one for each digit. We want our network to predict the digit shown in an image, so what we'll do is calculate probabilities that the image is of any one digit or class. This ends up being a discrete probability distribution over the classes (digits) that tells us the most likely class for the image. That means we need 10 output units for the 10 classes (digits). We'll see how to convert the network output into a probability distribution next.\n",
    "\n",
    "> **Exercise:** Flatten the batch of images `images`. Then build a multi-layer network with 784 input units, 256 hidden units, and 10 output units using random tensors for the weights and biases. For now, use a sigmoid activation for the hidden layer. Leave the output layer without an activation, we'll add one that gives us a probability distribution next."
   ]
  },
  {
   "cell_type": "code",
   "execution_count": 10,
   "metadata": {},
   "outputs": [
    {
     "name": "stdout",
     "output_type": "stream",
     "text": [
      "torch.Size([64, 784])\n",
      "torch.Size([64, 10])\n",
      "tensor([[  2.7857,   4.2754,   6.2994,   2.1247,  -3.5501,  -0.3730,  -6.8320,\n",
      "          12.6348, -13.0635, -10.2066],\n",
      "        [  1.1310,  -1.9279,  -4.3874,   9.4945,   7.9129,  -1.1305,  -6.1859,\n",
      "          35.2875,   6.5059,  -4.1229],\n",
      "        [-10.4736,  -4.9673,  17.9931,   0.4591,   3.5591,  -0.3896,  -3.6460,\n",
      "          27.8595,  -6.1966,  -3.4307],\n",
      "        [ -6.9167,  -1.2258,  17.1958,   3.2538,   5.5861,   0.5813,  -1.7098,\n",
      "          24.5560,  -1.5785,  -1.1688],\n",
      "        [ -3.5726,   8.7274,   5.9611,  13.5575,  -1.8535,  -7.4900,   0.8077,\n",
      "           6.1578,   3.6860, -21.5958],\n",
      "        [  2.9063,   4.1195,  13.0300,   4.7464,  -1.8642,   4.4574, -10.6413,\n",
      "           9.7113,  -3.9745,  -0.6336],\n",
      "        [  2.6220,   3.4932,   7.0701,   1.4916,  -4.2790,  -5.6749,  -7.3033,\n",
      "          28.6861,   1.3779,  -6.2746],\n",
      "        [  1.3470,   9.7560,  12.2372,   9.8720,   0.4852,  -5.5942,  -7.1999,\n",
      "          13.2750,   0.9896,  -5.8893],\n",
      "        [ -6.2086,  -4.0593,  17.7312,  -2.3473,   4.2423,  -4.4291, -10.5916,\n",
      "          23.8976,  -4.9730,  -4.8478],\n",
      "        [  4.1000,   5.5502,  13.8662,   8.0278,   2.0601, -12.6659, -10.0507,\n",
      "          25.0700,   2.5183,  -4.6432],\n",
      "        [ -3.0277,  -3.0423,   7.0834,   9.9018,   1.7042,  -3.0190,  -9.0181,\n",
      "          20.3995,  -1.9221,  -4.9306],\n",
      "        [ -7.7022,   3.5556,  18.1930,  -4.8695,   2.9766,   1.6052,  -5.6739,\n",
      "          23.1087,  -4.4193, -11.9373],\n",
      "        [ -3.1813,  -6.9620,  10.0889,   2.6553,  -4.1948, -10.3567,  -5.9834,\n",
      "          25.7537,  -1.6286, -13.1162],\n",
      "        [  1.0834,  -4.2326,   7.0818,  12.1745,   9.2616,  -2.3573, -13.5089,\n",
      "          22.0542,   2.4919,  -6.9798],\n",
      "        [  3.0949,  -0.9669,  11.5090,  15.4191,   0.4493, -13.8182,  -1.1432,\n",
      "          19.9944,  -7.6318, -26.5082],\n",
      "        [ -1.7442,  -0.3891,   7.0774,   6.8651,   2.0172, -12.8546,  -8.7742,\n",
      "          23.1246,  -1.5797,  -0.7052],\n",
      "        [ -4.8047,  -5.2138,  13.2897,   6.2115,  10.4070,   3.6808,  -1.4426,\n",
      "          17.8962,  -1.2692,  -5.7951],\n",
      "        [ -6.7677,   5.1210,   4.8908,   8.7607,  -8.2254,  -0.7039,  -8.1178,\n",
      "          18.0133,   0.3521, -13.1735],\n",
      "        [-15.1902,   2.2693,  14.8154,   0.1940, -10.8634,  -6.2760,  -6.1400,\n",
      "          22.2749, -10.7925, -16.5112],\n",
      "        [ -1.1421,  -6.3215,   6.0953,   5.0764,   2.6053,  -7.8796, -13.0024,\n",
      "          16.7921,  -7.7954,  -9.4307],\n",
      "        [ -4.2254,  -5.1063,   5.0629,   4.6541,  -4.5541,  -0.1529,   2.6012,\n",
      "          16.1495,  -5.0607,  -2.8210],\n",
      "        [ -7.8346,   4.3239,  13.3765,   2.2901,  -3.1847,   0.8886,  -6.1194,\n",
      "          19.4390,  -9.0822, -13.3077],\n",
      "        [ -6.9757,   2.3021,  14.7846,   4.5562,  -5.2731,  -4.6183,  -5.3845,\n",
      "          23.2794, -16.6931, -17.0845],\n",
      "        [-13.7894,  -5.2478,   2.4862,  11.9500,  -6.2868,  -5.1788, -10.8046,\n",
      "          21.8628,   2.5142, -16.2469],\n",
      "        [  0.7602,  -0.9314,   9.4431,   4.0812,   5.1838,  -0.4288,  -1.0802,\n",
      "          20.4518,  -1.4975, -10.5189],\n",
      "        [  1.0921,   1.7503,  16.8623,   0.7535,   3.1627,  -8.3783,  -1.7821,\n",
      "          15.1472,  -6.6745,  -0.6514],\n",
      "        [ -4.6365,  -3.2061,  13.2962,   7.1865,   9.0686,   4.6409,  -0.5916,\n",
      "          22.4971,  -2.4118,  -5.3944],\n",
      "        [ -6.1050,  -4.6470,   8.4136,  -0.6135,   3.8703,  -3.8182, -12.5624,\n",
      "          23.5791,   3.1795, -12.4547],\n",
      "        [-10.8471,   2.3626,   6.9168,  -1.4992,  -2.5480,  -1.7964,  -9.9114,\n",
      "          22.6627,  -3.6832, -10.6170],\n",
      "        [  2.6513,   5.8716,  10.6411,   8.8206,   5.5319,  -5.4818,  -1.2263,\n",
      "          17.6238,  -0.8256,  -0.6818],\n",
      "        [  0.7943,   2.3236,   9.3140,  11.3362,  -2.1165,  -2.7520,  -8.4545,\n",
      "          26.5746,   0.6489, -15.2596],\n",
      "        [-11.5991,  -6.1810,   6.7886,   3.5901, -17.8755,  -5.8715,  -8.3442,\n",
      "          23.1845, -13.4414,   0.3640],\n",
      "        [ -7.0228,   0.9785,  17.2229,   7.7685,   7.5168,  -2.9301,  -4.1400,\n",
      "          22.9395,  -5.7887, -17.4971],\n",
      "        [ -4.8115,  -7.3466,  14.9856,  11.8264,   0.6773, -13.1231,  -6.9296,\n",
      "           9.4486,  -6.9556,  -8.5324],\n",
      "        [-14.3423, -10.2898,  13.7153,  -2.0565,   2.0849,  -7.1538,  -2.5857,\n",
      "          25.0113,  -1.2522,  -0.6651],\n",
      "        [ -5.5428,  -3.1663,   9.2170,   5.5973, -10.6221,  -6.4666, -11.5123,\n",
      "          28.9380,  -4.2430, -13.9813],\n",
      "        [  7.8370,  -3.7198,   4.1314,   7.4301,  -0.1769,  -0.1797,  -1.3499,\n",
      "          13.4709,  -6.9629,  -7.4054],\n",
      "        [ -5.8656,  -0.2666,  11.3011,   7.4746,   3.6123,  -8.3514,  -1.5299,\n",
      "          15.0846,  -5.3112, -16.8397],\n",
      "        [ -9.4528,   0.5060,   9.7107,   5.6992,  -9.8744,  -3.1356,  -9.8005,\n",
      "          19.1771,   2.0990,  -4.4218],\n",
      "        [ -5.5901,  -1.1695,   2.7730,   6.8472,  -2.2028,  -9.6196,  -3.1271,\n",
      "          16.1583, -11.9057,  -6.8808],\n",
      "        [ -8.0608,  -4.4387,  15.9615,   1.4410,   1.4058,  -1.6562,  -0.3733,\n",
      "          28.7823,  -7.3348,   0.4661],\n",
      "        [ -1.1023,  -9.2739,  11.5118,   5.1517,   2.1412,  -1.3201,   1.4567,\n",
      "          22.4543,  -8.2411,   0.3305],\n",
      "        [ -8.7945,  -0.4919,   7.7292,  -2.7234,  -6.1715,  -1.2396,  -5.1133,\n",
      "          22.9358,  -1.9135, -14.2337],\n",
      "        [ -6.3010,   2.2660,  12.5085,   5.9759,  -3.6562,   0.0110,  -5.8582,\n",
      "          25.2619,  -2.2088,  -1.4891],\n",
      "        [ -2.9258,  -3.1826,   1.8340,   6.8906,   0.5490,  -1.7926, -12.5737,\n",
      "          25.2584,  -6.9490, -10.3101],\n",
      "        [ -6.0680,  -3.7646,  11.4474,   3.6132, -13.6560,  -5.4823, -14.8812,\n",
      "          29.9757,  -4.2471, -13.6162],\n",
      "        [-11.4927,  -4.1217,  20.4192,   1.7579,   1.0071,   6.4143,  -6.3127,\n",
      "          32.2203, -11.1825,  -3.0386],\n",
      "        [ -2.2613,  -2.2190,   8.0019,   6.0818,   3.4972,  -7.6158,  -2.2753,\n",
      "          16.5359,  -4.2632,  -0.5435],\n",
      "        [  1.3327,   6.0575,  13.4122,  -1.2519,   7.3700,  -7.1015,  -0.7363,\n",
      "          18.8909, -10.0160,  -7.7841],\n",
      "        [ -5.8377,   2.8640,  10.7790,   8.0555,  -9.6623,   4.7788,  -9.8711,\n",
      "          22.7417,   2.2253, -12.8884],\n",
      "        [ -6.8559,  -6.4988,   7.0069,   1.5951,   3.9330,  -7.0431,   1.8301,\n",
      "          19.9672,  -9.6661,  -6.8316],\n",
      "        [ -3.8184,   8.6507,  15.5425,  -2.9695,  -1.0440,   5.2835, -11.6246,\n",
      "          16.6147,  -7.7259,  -2.6831],\n",
      "        [ -2.2915,   2.7464,   9.2182,  10.3483,   4.4366,   0.9489,  -1.6396,\n",
      "          19.7005,  -1.2089,  -0.5373],\n",
      "        [ -6.5925,  -8.1686,  14.7928,  -0.6070,  -1.0055,  -8.0069, -12.1928,\n",
      "          28.0901,   0.2363,  -8.8911],\n",
      "        [ -6.5150,  -0.4227,  15.9722,   8.7110,   3.1816,  -5.2465,  -5.9958,\n",
      "          25.7305,   4.8694,  -4.1381],\n",
      "        [-11.3625,  -0.9925,  18.5160,   1.7997,   9.8119,  -1.9223,  -4.3126,\n",
      "          18.8706,  -5.7988,  -8.7070],\n",
      "        [  0.2665,  -1.8301,   6.1110,  10.8544,   0.6840,  -7.3428,  -9.3234,\n",
      "          23.0198,   3.3906, -16.3502],\n",
      "        [ -6.4205,  -1.2808,  21.1120,  -2.3864,   3.9675,  -0.3894,  -0.9671,\n",
      "          27.1396,  -8.7823, -10.5053],\n",
      "        [-14.0880,   4.9345,  17.2345,   3.5110,  -9.1211,  -1.4169,  -6.2825,\n",
      "          12.2186,  -0.3692,  -1.3176],\n",
      "        [ -8.2185, -11.8493,  16.5677,   0.0034,   0.1007,  -8.7412,  -4.9620,\n",
      "          24.7947,   0.5670, -12.1527],\n",
      "        [ -5.0517,  -1.6106,   6.3756,   3.6898,   5.4357,  -2.1069,  -3.3116,\n",
      "          18.0050,  -0.0414,  -6.9866],\n",
      "        [ -5.0588,   3.0175,  11.7868,   0.0990,   6.1296,   1.9415,  -5.1875,\n",
      "          22.3010,  -1.0886, -10.2866],\n",
      "        [-12.0217,  -8.3121,   5.9652,   0.5513,  -3.3334,  -5.6146,  -3.6420,\n",
      "          26.1082,  -2.7064, -11.7431],\n",
      "        [ -4.6808,  12.0268,  10.8459,   6.1830,  -6.2781,   1.4073,  -3.3342,\n",
      "          19.9087,  -0.1976,  -2.5023]])\n"
     ]
    }
   ],
   "source": [
    "## Your solution\n",
    "def activation(x):\n",
    "    return 1 / (1 + torch.exp(-x))\n",
    "\n",
    "inputs = images.view(images.shape[0], -1)\n",
    "print(inputs.shape)\n",
    "\n",
    "w1 = torch.randn(784, 256)\n",
    "b1 = torch.randn(256)\n",
    "\n",
    "w2 = torch.randn(256, 10)\n",
    "b2 = torch.randn(10)\n",
    "\n",
    "h = activation(torch.mm(inputs, w1) + b1)\n",
    "out = torch.mm(h, w2) + b2\n",
    "print(out.shape)\n",
    "print(out)\n",
    "# output of your network, should have shape (64,10)"
   ]
  },
  {
   "cell_type": "markdown",
   "metadata": {},
   "source": [
    "Now we have 10 outputs for our network. We want to pass in an image to our network and get out a probability distribution over the classes that tells us the likely class(es) the image belongs to. Something that looks like this:\n",
    "<img src='assets/image_distribution.png' width=500px>\n",
    "\n",
    "Here we see that the probability for each class is roughly the same. This is representing an untrained network, it hasn't seen any data yet so it just returns a uniform distribution with equal probabilities for each class.\n",
    "\n",
    "To calculate this probability distribution, we often use the [**softmax** function](https://en.wikipedia.org/wiki/Softmax_function). Mathematically this looks like\n",
    "\n",
    "$$\n",
    "\\Large \\sigma(x_i) = \\cfrac{e^{x_i}}{\\sum_k^K{e^{x_k}}}\n",
    "$$\n",
    "\n",
    "What this does is squish each input $x_i$ between 0 and 1 and normalizes the values to give you a proper probability distribution where the probabilites sum up to one.\n",
    "\n",
    "> **Exercise:** Implement a function `softmax` that performs the softmax calculation and returns probability distributions for each example in the batch. Note that you'll need to pay attention to the shapes when doing this. If you have a tensor `a` with shape `(64, 10)` and a tensor `b` with shape `(64,)`, doing `a/b` will give you an error because PyTorch will try to do the division across the columns (called broadcasting) but you'll get a size mismatch. The way to think about this is for each of the 64 examples, you only want to divide by one value, the sum in the denominator. So you need `b` to have a shape of `(64, 1)`. This way PyTorch will divide the 10 values in each row of `a` by the one value in each row of `b`. Pay attention to how you take the sum as well. You'll need to define the `dim` keyword in `torch.sum`. Setting `dim=0` takes the sum across the rows while `dim=1` takes the sum across the columns."
   ]
  },
  {
   "cell_type": "code",
   "execution_count": 11,
   "metadata": {},
   "outputs": [
    {
     "name": "stdout",
     "output_type": "stream",
     "text": [
      "torch.Size([64, 10])\n",
      "tensor([1.0000, 1.0000, 1.0000, 1.0000, 1.0000, 1.0000, 1.0000, 1.0000, 1.0000,\n",
      "        1.0000, 1.0000, 1.0000, 1.0000, 1.0000, 1.0000, 1.0000, 1.0000, 1.0000,\n",
      "        1.0000, 1.0000, 1.0000, 1.0000, 1.0000, 1.0000, 1.0000, 1.0000, 1.0000,\n",
      "        1.0000, 1.0000, 1.0000, 1.0000, 1.0000, 1.0000, 1.0000, 1.0000, 1.0000,\n",
      "        1.0000, 1.0000, 1.0000, 1.0000, 1.0000, 1.0000, 1.0000, 1.0000, 1.0000,\n",
      "        1.0000, 1.0000, 1.0000, 1.0000, 1.0000, 1.0000, 1.0000, 1.0000, 1.0000,\n",
      "        1.0000, 1.0000, 1.0000, 1.0000, 1.0000, 1.0000, 1.0000, 1.0000, 1.0000,\n",
      "        1.0000])\n"
     ]
    }
   ],
   "source": [
    "def softmax(x):\n",
    "    ## TODO: Implement the softmax function here\n",
    "    return torch.exp(x) / torch.sum(torch.exp(x), dim=1).view(-1, 1)\n",
    "\n",
    "# Here, out should be the output of the network in the previous excercise with shape (64,10)\n",
    "probabilities = softmax(out)\n",
    "\n",
    "# Does it have the right shape? Should be (64, 10)\n",
    "print(probabilities.shape)\n",
    "# Does it sum to 1?\n",
    "print(probabilities.sum(dim=1))"
   ]
  },
  {
   "cell_type": "markdown",
   "metadata": {},
   "source": [
    "## Building networks with PyTorch\n",
    "\n",
    "PyTorch provides a module `nn` that makes building networks much simpler. Here I'll show you how to build the same one as above with 784 inputs, 256 hidden units, 10 output units and a softmax output."
   ]
  },
  {
   "cell_type": "code",
   "execution_count": 14,
   "metadata": {},
   "outputs": [],
   "source": [
    "from torch import nn"
   ]
  },
  {
   "cell_type": "code",
   "execution_count": 15,
   "metadata": {},
   "outputs": [],
   "source": [
    "class Network(nn.Module):\n",
    "    def __init__(self):\n",
    "        super().__init__()\n",
    "        \n",
    "        # Inputs to hidden layer linear transformation\n",
    "        self.hidden = nn.Linear(784, 256)\n",
    "        # Output layer, 10 units - one for each digit\n",
    "        self.output = nn.Linear(256, 10)\n",
    "        \n",
    "        # Define sigmoid activation and softmax output \n",
    "        self.sigmoid = nn.Sigmoid()\n",
    "        self.softmax = nn.Softmax(dim=1)\n",
    "        \n",
    "    def forward(self, x):\n",
    "        # Pass the input tensor through each of our operations\n",
    "        x = self.hidden(x)\n",
    "        x = self.sigmoid(x)\n",
    "        x = self.output(x)\n",
    "        x = self.softmax(x)\n",
    "        \n",
    "        return x"
   ]
  },
  {
   "cell_type": "markdown",
   "metadata": {},
   "source": [
    "Let's go through this bit by bit.\n",
    "\n",
    "```python\n",
    "class Network(nn.Module):\n",
    "```\n",
    "\n",
    "Here we're inheriting from `nn.Module`. Combined with `super().__init__()` this creates a class that tracks the architecture and provides a lot of useful methods and attributes. It is mandatory to inherit from `nn.Module` when you're creating a class for your network. The name of the class itself can be anything.\n",
    "\n",
    "```python\n",
    "self.hidden = nn.Linear(784, 256)\n",
    "```\n",
    "\n",
    "This line creates a module for a linear transformation, $x\\mathbf{W} + b$, with 784 inputs and 256 outputs and assigns it to `self.hidden`. The module automatically creates the weight and bias tensors which we'll use in the `forward` method. You can access the weight and bias tensors once the network once it's create at `net.hidden.weight` and `net.hidden.bias`.\n",
    "\n",
    "```python\n",
    "self.output = nn.Linear(256, 10)\n",
    "```\n",
    "\n",
    "Similarly, this creates another linear transformation with 256 inputs and 10 outputs.\n",
    "\n",
    "```python\n",
    "self.sigmoid = nn.Sigmoid()\n",
    "self.softmax = nn.Softmax(dim=1)\n",
    "```\n",
    "\n",
    "Here I defined operations for the sigmoid activation and softmax output. Setting `dim=1` in `nn.Softmax(dim=1)` calculates softmax across the columns.\n",
    "\n",
    "```python\n",
    "def forward(self, x):\n",
    "```\n",
    "\n",
    "PyTorch networks created with `nn.Module` must have a `forward` method defined. It takes in a tensor `x` and passes it through the operations you defined in the `__init__` method.\n",
    "\n",
    "```python\n",
    "x = self.hidden(x)\n",
    "x = self.sigmoid(x)\n",
    "x = self.output(x)\n",
    "x = self.softmax(x)\n",
    "```\n",
    "\n",
    "Here the input tensor `x` is passed through each operation a reassigned to `x`. We can see that the input tensor goes through the hidden layer, then a sigmoid function, then the output layer, and finally the softmax function. It doesn't matter what you name the variables here, as long as the inputs and outputs of the operations match the network architecture you want to build. The order in which you define things in the `__init__` method doesn't matter, but you'll need to sequence the operations correctly in the `forward` method.\n",
    "\n",
    "Now we can create a `Network` object."
   ]
  },
  {
   "cell_type": "code",
   "execution_count": 16,
   "metadata": {},
   "outputs": [
    {
     "data": {
      "text/plain": [
       "Network(\n",
       "  (hidden): Linear(in_features=784, out_features=256, bias=True)\n",
       "  (output): Linear(in_features=256, out_features=10, bias=True)\n",
       "  (sigmoid): Sigmoid()\n",
       "  (softmax): Softmax()\n",
       ")"
      ]
     },
     "execution_count": 16,
     "metadata": {},
     "output_type": "execute_result"
    }
   ],
   "source": [
    "# Create the network and look at it's text representation\n",
    "model = Network()\n",
    "model"
   ]
  },
  {
   "cell_type": "markdown",
   "metadata": {},
   "source": [
    "You can define the network somewhat more concisely and clearly using the `torch.nn.functional` module. This is the most common way you'll see networks defined as many operations are simple element-wise functions. We normally import this module as `F`, `import torch.nn.functional as F`."
   ]
  },
  {
   "cell_type": "code",
   "execution_count": 20,
   "metadata": {},
   "outputs": [
    {
     "data": {
      "text/plain": [
       "Network(\n",
       "  (hidden): Linear(in_features=784, out_features=256, bias=True)\n",
       "  (output): Linear(in_features=256, out_features=10, bias=True)\n",
       ")"
      ]
     },
     "execution_count": 20,
     "metadata": {},
     "output_type": "execute_result"
    }
   ],
   "source": [
    "import torch.nn.functional as F\n",
    "\n",
    "class Network(nn.Module):\n",
    "    def __init__(self):\n",
    "        super().__init__()\n",
    "        # Inputs to hidden layer linear transformation\n",
    "        self.hidden = nn.Linear(784, 256)\n",
    "        # Output layer, 10 units - one for each digit\n",
    "        self.output = nn.Linear(256, 10)\n",
    "        \n",
    "    def forward(self, x):\n",
    "        # Hidden layer with sigmoid activation\n",
    "        x = F.sigmoid(self.hidden(x))\n",
    "        # Output layer with softmax activation\n",
    "        x = F.softmax(self.output(x), dim=1)\n",
    "        \n",
    "        return x\n",
    "\n",
    "model = Network()\n",
    "model"
   ]
  },
  {
   "cell_type": "markdown",
   "metadata": {},
   "source": [
    "### Activation functions\n",
    "\n",
    "So far we've only been looking at the softmax activation, but in general any function can be used as an activation function. The only requirement is that for a network to approximate a non-linear function, the activation functions must be non-linear. Here are a few more examples of common activation functions: Tanh (hyperbolic tangent), and ReLU (rectified linear unit).\n",
    "\n",
    "<img src=\"assets/activation.png\" width=700px>\n",
    "\n",
    "In practice, the ReLU function is used almost exclusively as the activation function for hidden layers."
   ]
  },
  {
   "cell_type": "markdown",
   "metadata": {},
   "source": [
    "### Your Turn to Build a Network\n",
    "\n",
    "<img src=\"assets/mlp_mnist.png\" width=600px>\n",
    "\n",
    "> **Exercise:** Create a network with 784 input units, a hidden layer with 128 units and a ReLU activation, then a hidden layer with 64 units and a ReLU activation, and finally an output layer with a softmax activation as shown above. You can use a ReLU activation with the `nn.ReLU` module or `F.relu` function."
   ]
  },
  {
   "cell_type": "code",
   "execution_count": 33,
   "metadata": {
    "scrolled": true
   },
   "outputs": [
    {
     "data": {
      "text/plain": [
       "Network2(\n",
       "  (fc1): Linear(in_features=784, out_features=128, bias=True)\n",
       "  (fc2): Linear(in_features=128, out_features=64, bias=True)\n",
       "  (fc3): Linear(in_features=64, out_features=10, bias=True)\n",
       ")"
      ]
     },
     "execution_count": 33,
     "metadata": {},
     "output_type": "execute_result"
    }
   ],
   "source": [
    "## Your solution here\n",
    "class Network2(nn.Module):\n",
    "    def __init__(self):\n",
    "        super().__init__()\n",
    "        self.fc1 = nn.Linear(784, 128)\n",
    "        self.fc2 = nn.Linear(128, 64)\n",
    "        self.fc3 = nn.Linear(64, 10)\n",
    "        \n",
    "    def forward(self, x):\n",
    "        x = self.fc1(x)\n",
    "        x = F.relu(x)\n",
    "        x = self.fc2(x)\n",
    "        x = F.relu(x)\n",
    "        x = self.fc3(x)\n",
    "        x = F.softmax(x, dim=1)\n",
    "        return x\n",
    "    \n",
    "model = Network2()\n",
    "model"
   ]
  },
  {
   "cell_type": "markdown",
   "metadata": {},
   "source": [
    "### Initializing weights and biases\n",
    "\n",
    "The weights and such are automatically initialized for you, but it's possible to customize how they are initialized. The weights and biases are tensors attached to the layer you defined, you can get them with `model.fc1.weight` for instance."
   ]
  },
  {
   "cell_type": "code",
   "execution_count": 34,
   "metadata": {},
   "outputs": [
    {
     "name": "stdout",
     "output_type": "stream",
     "text": [
      "Parameter containing:\n",
      "tensor([[ 0.0151, -0.0244, -0.0292,  ...,  0.0093,  0.0266,  0.0307],\n",
      "        [-0.0162, -0.0331,  0.0123,  ...,  0.0267, -0.0307,  0.0106],\n",
      "        [ 0.0037, -0.0156, -0.0212,  ...,  0.0133,  0.0127, -0.0319],\n",
      "        ...,\n",
      "        [ 0.0274, -0.0221, -0.0306,  ..., -0.0046, -0.0245, -0.0019],\n",
      "        [ 0.0179, -0.0174, -0.0044,  ...,  0.0321,  0.0037,  0.0117],\n",
      "        [-0.0246, -0.0025,  0.0190,  ..., -0.0159, -0.0340, -0.0037]],\n",
      "       requires_grad=True)\n",
      "Parameter containing:\n",
      "tensor([ 0.0034, -0.0047,  0.0308, -0.0056,  0.0074, -0.0342,  0.0082, -0.0215,\n",
      "         0.0085,  0.0038,  0.0183, -0.0017,  0.0137, -0.0118, -0.0228,  0.0056,\n",
      "         0.0027,  0.0175,  0.0191,  0.0230,  0.0205,  0.0243, -0.0080, -0.0113,\n",
      "         0.0216,  0.0115,  0.0098,  0.0348,  0.0177, -0.0248,  0.0031,  0.0012,\n",
      "         0.0088, -0.0089,  0.0150, -0.0284,  0.0199,  0.0171,  0.0006, -0.0064,\n",
      "         0.0288,  0.0050,  0.0054, -0.0170, -0.0054,  0.0208, -0.0295, -0.0055,\n",
      "        -0.0058,  0.0266, -0.0251, -0.0013,  0.0005,  0.0101, -0.0152, -0.0156,\n",
      "         0.0268, -0.0199, -0.0298, -0.0339,  0.0208, -0.0290, -0.0165, -0.0280,\n",
      "         0.0080, -0.0205,  0.0013, -0.0038, -0.0121, -0.0313,  0.0025, -0.0072,\n",
      "        -0.0035,  0.0056, -0.0189,  0.0122, -0.0054,  0.0092,  0.0254, -0.0029,\n",
      "         0.0186,  0.0195,  0.0153,  0.0086, -0.0190, -0.0140,  0.0311, -0.0068,\n",
      "        -0.0071, -0.0040, -0.0354,  0.0200,  0.0158,  0.0296, -0.0233,  0.0221,\n",
      "        -0.0078, -0.0220, -0.0239, -0.0304, -0.0082,  0.0349,  0.0073,  0.0157,\n",
      "         0.0268, -0.0207, -0.0214, -0.0331, -0.0081,  0.0276,  0.0267, -0.0212,\n",
      "         0.0031, -0.0271, -0.0080,  0.0002, -0.0179, -0.0227,  0.0329, -0.0158,\n",
      "        -0.0049, -0.0331,  0.0189,  0.0319, -0.0288, -0.0173,  0.0265,  0.0237],\n",
      "       requires_grad=True)\n"
     ]
    }
   ],
   "source": [
    "print(model.fc1.weight)\n",
    "print(model.fc1.bias)"
   ]
  },
  {
   "cell_type": "markdown",
   "metadata": {},
   "source": [
    "For custom initialization, we want to modify these tensors in place. These are actually autograd *Variables*, so we need to get back the actual tensors with `model.fc1.weight.data`. Once we have the tensors, we can fill them with zeros (for biases) or random normal values."
   ]
  },
  {
   "cell_type": "code",
   "execution_count": 35,
   "metadata": {},
   "outputs": [
    {
     "data": {
      "text/plain": [
       "tensor([0., 0., 0., 0., 0., 0., 0., 0., 0., 0., 0., 0., 0., 0., 0., 0., 0., 0.,\n",
       "        0., 0., 0., 0., 0., 0., 0., 0., 0., 0., 0., 0., 0., 0., 0., 0., 0., 0.,\n",
       "        0., 0., 0., 0., 0., 0., 0., 0., 0., 0., 0., 0., 0., 0., 0., 0., 0., 0.,\n",
       "        0., 0., 0., 0., 0., 0., 0., 0., 0., 0., 0., 0., 0., 0., 0., 0., 0., 0.,\n",
       "        0., 0., 0., 0., 0., 0., 0., 0., 0., 0., 0., 0., 0., 0., 0., 0., 0., 0.,\n",
       "        0., 0., 0., 0., 0., 0., 0., 0., 0., 0., 0., 0., 0., 0., 0., 0., 0., 0.,\n",
       "        0., 0., 0., 0., 0., 0., 0., 0., 0., 0., 0., 0., 0., 0., 0., 0., 0., 0.,\n",
       "        0., 0.])"
      ]
     },
     "execution_count": 35,
     "metadata": {},
     "output_type": "execute_result"
    }
   ],
   "source": [
    "# Set biases to all zeros\n",
    "model.fc1.bias.data.fill_(0)"
   ]
  },
  {
   "cell_type": "code",
   "execution_count": 36,
   "metadata": {},
   "outputs": [
    {
     "data": {
      "text/plain": [
       "tensor([[-0.0093,  0.0217, -0.0077,  ..., -0.0124,  0.0107,  0.0177],\n",
       "        [ 0.0174, -0.0046, -0.0078,  ..., -0.0136,  0.0083,  0.0043],\n",
       "        [-0.0051, -0.0000, -0.0080,  ...,  0.0188,  0.0126,  0.0020],\n",
       "        ...,\n",
       "        [ 0.0121, -0.0110,  0.0094,  ...,  0.0049,  0.0043,  0.0044],\n",
       "        [ 0.0081, -0.0030,  0.0078,  ..., -0.0128, -0.0053,  0.0079],\n",
       "        [ 0.0194, -0.0142,  0.0039,  ...,  0.0130, -0.0099,  0.0196]])"
      ]
     },
     "execution_count": 36,
     "metadata": {},
     "output_type": "execute_result"
    }
   ],
   "source": [
    "# sample from random normal with standard dev = 0.01\n",
    "model.fc1.weight.data.normal_(std=0.01)"
   ]
  },
  {
   "cell_type": "markdown",
   "metadata": {},
   "source": [
    "### Forward pass\n",
    "\n",
    "Now that we have a network, let's see what happens when we pass in an image."
   ]
  },
  {
   "cell_type": "code",
   "execution_count": 37,
   "metadata": {},
   "outputs": [
    {
     "data": {
      "image/png": "[encoded data removed]",
      "text/plain": [
       "<Figure size 432x648 with 2 Axes>"
      ]
     },
     "metadata": {
      "image/png": {
       "height": 226,
       "width": 423
      },
      "needs_background": "light"
     },
     "output_type": "display_data"
    }
   ],
   "source": [
    "# Grab some data \n",
    "dataiter = iter(trainloader)\n",
    "images, labels = dataiter.next()\n",
    "\n",
    "# Resize images into a 1D vector, new shape is (batch size, color channels, image pixels) \n",
    "images.resize_(64, 1, 784)\n",
    "# or images.resize_(images.shape[0], 1, 784) to automatically get batch size\n",
    "\n",
    "# Forward pass through the network\n",
    "img_idx = 0\n",
    "ps = model.forward(images[img_idx,:])\n",
    "\n",
    "img = images[img_idx]\n",
    "helper.view_classify(img.view(1, 28, 28), ps)"
   ]
  },
  {
   "cell_type": "markdown",
   "metadata": {},
   "source": [
    "As you can see above, our network has basically no idea what this digit is. It's because we haven't trained it yet, all the weights are random!\n",
    "\n",
    "### Using `nn.Sequential`\n",
    "\n",
    "PyTorch provides a convenient way to build networks like this where a tensor is passed sequentially through operations, `nn.Sequential` ([documentation](https://pytorch.org/docs/master/nn.html#torch.nn.Sequential)). Using this to build the equivalent network:"
   ]
  },
  {
   "cell_type": "code",
   "execution_count": 38,
   "metadata": {},
   "outputs": [
    {
     "name": "stdout",
     "output_type": "stream",
     "text": [
      "Sequential(\n",
      "  (0): Linear(in_features=784, out_features=128, bias=True)\n",
      "  (1): ReLU()\n",
      "  (2): Linear(in_features=128, out_features=64, bias=True)\n",
      "  (3): ReLU()\n",
      "  (4): Linear(in_features=64, out_features=10, bias=True)\n",
      "  (5): Softmax()\n",
      ")\n"
     ]
    },
    {
     "data": {
      "image/png": "[encoded data removed]",
      "text/plain": [
       "<Figure size 432x648 with 2 Axes>"
      ]
     },
     "metadata": {
      "image/png": {
       "height": 226,
       "width": 423
      },
      "needs_background": "light"
     },
     "output_type": "display_data"
    }
   ],
   "source": [
    "# Hyperparameters for our network\n",
    "input_size = 784\n",
    "hidden_sizes = [128, 64]\n",
    "output_size = 10\n",
    "\n",
    "# Build a feed-forward network\n",
    "model = nn.Sequential(nn.Linear(input_size, hidden_sizes[0]),\n",
    "                      nn.ReLU(),\n",
    "                      nn.Linear(hidden_sizes[0], hidden_sizes[1]),\n",
    "                      nn.ReLU(),\n",
    "                      nn.Linear(hidden_sizes[1], output_size),\n",
    "                      nn.Softmax(dim=1))\n",
    "print(model)\n",
    "\n",
    "# Forward pass through the network and display output\n",
    "images, labels = next(iter(trainloader))\n",
    "images.resize_(images.shape[0], 1, 784)\n",
    "ps = model.forward(images[0,:])\n",
    "helper.view_classify(images[0].view(1, 28, 28), ps)"
   ]
  },
  {
   "cell_type": "markdown",
   "metadata": {},
   "source": [
    "The operations are availble by passing in the appropriate index. For example, if you want to get first Linear operation and look at the weights, you'd use `model[0]`."
   ]
  },
  {
   "cell_type": "code",
   "execution_count": 39,
   "metadata": {},
   "outputs": [
    {
     "name": "stdout",
     "output_type": "stream",
     "text": [
      "Linear(in_features=784, out_features=128, bias=True)\n"
     ]
    },
    {
     "data": {
      "text/plain": [
       "Parameter containing:\n",
       "tensor([[ 0.0186, -0.0163,  0.0082,  ..., -0.0142,  0.0196,  0.0229],\n",
       "        [-0.0283, -0.0146,  0.0060,  ..., -0.0165, -0.0107,  0.0072],\n",
       "        [ 0.0114,  0.0350,  0.0022,  ..., -0.0231,  0.0113,  0.0290],\n",
       "        ...,\n",
       "        [ 0.0220, -0.0045,  0.0092,  ..., -0.0317, -0.0035,  0.0027],\n",
       "        [ 0.0172,  0.0272,  0.0307,  ..., -0.0130,  0.0028, -0.0300],\n",
       "        [-0.0355, -0.0279,  0.0268,  ...,  0.0227,  0.0019, -0.0000]],\n",
       "       requires_grad=True)"
      ]
     },
     "execution_count": 39,
     "metadata": {},
     "output_type": "execute_result"
    }
   ],
   "source": [
    "print(model[0])\n",
    "model[0].weight"
   ]
  },
  {
   "cell_type": "markdown",
   "metadata": {},
   "source": [
    "You can also pass in an `OrderedDict` to name the individual layers and operations, instead of using incremental integers. Note that dictionary keys must be unique, so _each operation must have a different name_."
   ]
  },
  {
   "cell_type": "code",
   "execution_count": 40,
   "metadata": {},
   "outputs": [
    {
     "data": {
      "text/plain": [
       "Sequential(\n",
       "  (fc1): Linear(in_features=784, out_features=128, bias=True)\n",
       "  (relu1): ReLU()\n",
       "  (fc2): Linear(in_features=128, out_features=64, bias=True)\n",
       "  (relu2): ReLU()\n",
       "  (output): Linear(in_features=64, out_features=10, bias=True)\n",
       "  (softmax): Softmax()\n",
       ")"
      ]
     },
     "execution_count": 40,
     "metadata": {},
     "output_type": "execute_result"
    }
   ],
   "source": [
    "from collections import OrderedDict\n",
    "model = nn.Sequential(OrderedDict([\n",
    "                      ('fc1', nn.Linear(input_size, hidden_sizes[0])),\n",
    "                      ('relu1', nn.ReLU()),\n",
    "                      ('fc2', nn.Linear(hidden_sizes[0], hidden_sizes[1])),\n",
    "                      ('relu2', nn.ReLU()),\n",
    "                      ('output', nn.Linear(hidden_sizes[1], output_size)),\n",
    "                      ('softmax', nn.Softmax(dim=1))]))\n",
    "model"
   ]
  },
  {
   "cell_type": "markdown",
   "metadata": {},
   "source": [
    "Now you can access layers either by integer or the name"
   ]
  },
  {
   "cell_type": "code",
   "execution_count": 41,
   "metadata": {},
   "outputs": [
    {
     "name": "stdout",
     "output_type": "stream",
     "text": [
      "Linear(in_features=784, out_features=128, bias=True)\n",
      "Linear(in_features=784, out_features=128, bias=True)\n"
     ]
    }
   ],
   "source": [
    "print(model[0])\n",
    "print(model.fc1)"
   ]
  },
  {
   "cell_type": "markdown",
   "metadata": {},
   "source": [
    "In the next notebook, we'll see how we can train a neural network to accuractly predict the numbers appearing in the MNIST images."
   ]
  }
 ],
 "metadata": {
  "kernelspec": {
   "display_name": "Python 3",
   "language": "python",
   "name": "python3"
  },
  "language_info": {
   "codemirror_mode": {
    "name": "ipython",
    "version": 3
   },
   "file_extension": ".py",
   "mimetype": "text/x-python",
   "name": "python",
   "nbconvert_exporter": "python",
   "pygments_lexer": "ipython3",
   "version": "3.6.7"
  }
 },
 "nbformat": 4,
 "nbformat_minor": 2
}
